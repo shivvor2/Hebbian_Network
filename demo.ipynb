{
 "cells": [
  {
   "cell_type": "markdown",
   "metadata": {},
   "source": [
    "# Demo\n",
    "\n",
    "This is the demonstration of a recreation of a Hopfield Network (as demonstrated in [this video](https://www.youtube.com/watch?v=piF6D6CQxUw))"
   ]
  },
  {
   "cell_type": "markdown",
   "metadata": {},
   "source": [
    "## Imports"
   ]
  },
  {
   "cell_type": "code",
   "execution_count": 1,
   "metadata": {},
   "outputs": [],
   "source": [
    "import numpy as np\n",
    "import Hopfield_Network as hn\n",
    "import util\n",
    "from util import print_array"
   ]
  },
  {
   "cell_type": "markdown",
   "metadata": {},
   "source": [
    "## Basic use case:\n",
    "\n",
    "We demonstrate hopfield network's ability to return to a stable state.\n",
    "\n",
    "We specify a (binary, stable) state (matrix) of 1 and -1s, we then build a hopfield network with a randomized initial state and demonstrate the process of it returning to the stable state."
   ]
  },
  {
   "cell_type": "markdown",
   "metadata": {},
   "source": [
    "Initializing a state matrix"
   ]
  },
  {
   "cell_type": "code",
   "execution_count": 2,
   "metadata": {},
   "outputs": [
    {
     "name": "stdout",
     "output_type": "stream",
     "text": [
      "□ ■ ■ □\n",
      "■ □ □ ■\n",
      "■ □ □ ■\n",
      "□ ■ ■ □\n",
      "□ □ ■ □\n",
      "□ □ ■ ■\n",
      "■ □ ■ ■\n",
      "□ ■ □ □\n"
     ]
    }
   ],
   "source": [
    "# initializing a memory matrix\n",
    "stable_state = np.array([[1,-1,-1,1],\n",
    "                        [-1,1,1,-1],\n",
    "                        [-1,1,1,-1],\n",
    "                        [1,-1,-1,1]])"
   ]
  },
  {
   "cell_type": "code",
   "execution_count": 3,
   "metadata": {},
   "outputs": [
    {
     "name": "stdout",
     "output_type": "stream",
     "text": [
      "Setting dimensions to (4, 4) of the added memory\n"
     ]
    },
    {
     "name": "stderr",
     "output_type": "stream",
     "text": [
      "/mnt/d/Work/Projects/Hopfield_Network/Hopfield_Network.py:85: FutureWarning: elementwise comparison failed; returning scalar instead, but in the future will perform elementwise comparison\n",
      "  if weights != \"random\" and np.array(dims).prod() != weights.shape[0]: # We assign weights between \"all pairs\" of vertices\n"
     ]
    }
   ],
   "source": [
    "# initializing and building a Hopfield network\n",
    "builder = hn.HopNetBuilder()\n",
    "builder.add_memory(stable_state)\n",
    "# builder.add_memory(stable_state2)\n",
    "network = builder.build(init_state = \"random\")"
   ]
  },
  {
   "cell_type": "code",
   "execution_count": 4,
   "metadata": {},
   "outputs": [
    {
     "name": "stdout",
     "output_type": "stream",
     "text": [
      "□ ■ □ ■\n",
      "■ □ □ □\n",
      "□ ■ ■ □\n",
      "■ ■ □ □\n"
     ]
    }
   ],
   "source": [
    "network.show_state()"
   ]
  },
  {
   "cell_type": "code",
   "execution_count": 5,
   "metadata": {},
   "outputs": [
    {
     "name": "stdout",
     "output_type": "stream",
     "text": [
      "Convergence Reached at iteration 0\n",
      "■ □ □ ■\n",
      "□ ■ ■ □\n",
      "□ ■ ■ □\n",
      "■ □ □ ■\n"
     ]
    }
   ],
   "source": [
    "# letting the network converge to the stable state\n",
    "network.update(wait = 0.5)"
   ]
  },
  {
   "cell_type": "markdown",
   "metadata": {},
   "source": [
    "# The Math\n",
    "\n",
    "A hopfield network (as described in the video) is made up of a \"grid\" of fully connected neurons, each neuron taking the state of other neurons as input and changes it's own state accordingly.\n",
    "\n",
    "To be more specific, given a hopfield network $G(V,E)$:\n",
    "1. It is Fully connected i.e. $\\forall v_i, v_j \\in V, \\exists e = \\{v_i, v_j\\}, e \\in E$.\n",
    "2. For vertex v_i, it is assigned a value 1 or -1.\n",
    "3. We assign a weight matrix $W$ of $|E|$ (= $|V| \\cdot |V|$ when vertex is FC). $W[i,j]$ corresponds to the edgeweight of edge $e[v_i, v_j]$\n",
    "4. For vertex v_i, the update rule is\n",
    "$f(\\sum_{k: e \\{ v_k, v_i \\} \\in E}w_{ki} v_k)$ where $f(x) = 1$ if $X > 0$ and $f(x) = 0$ otherwise \n"
   ]
  }
 ],
 "metadata": {
  "kernelspec": {
   "display_name": "base",
   "language": "python",
   "name": "python3"
  },
  "language_info": {
   "codemirror_mode": {
    "name": "ipython",
    "version": 3
   },
   "file_extension": ".py",
   "mimetype": "text/x-python",
   "name": "python",
   "nbconvert_exporter": "python",
   "pygments_lexer": "ipython3",
   "version": "3.11.5"
  },
  "orig_nbformat": 4
 },
 "nbformat": 4,
 "nbformat_minor": 2
}
