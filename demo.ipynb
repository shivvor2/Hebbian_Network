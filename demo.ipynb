{
 "cells": [
  {
   "cell_type": "markdown",
   "metadata": {},
   "source": [
    "# Demo\n",
    "\n",
    "This is the demonstration of a recreation of a Hopfield Network (as demonstrated in [this video](https://www.youtube.com/watch?v=piF6D6CQxUw))"
   ]
  },
  {
   "cell_type": "markdown",
   "metadata": {},
   "source": [
    "## Imports"
   ]
  },
  {
   "cell_type": "code",
   "execution_count": 1,
   "metadata": {},
   "outputs": [],
   "source": [
    "import numpy as np\n",
    "import Hopfield_Network as hn\n",
    "import util\n",
    "from util import print_array"
   ]
  },
  {
   "cell_type": "markdown",
   "metadata": {},
   "source": [
    "## Basic use case:\n",
    "\n",
    "We demonstrate hopfield network's ability to return to a stable state.\n",
    "\n",
    "We specify a (binary, stable) state (matrix) of 1 and -1s, we then build a hopfield network with a randomized initial state and demonstrate the process of it returning to the stable state."
   ]
  },
  {
   "cell_type": "markdown",
   "metadata": {},
   "source": [
    "Initializing a state matrix"
   ]
  },
  {
   "cell_type": "code",
   "execution_count": 2,
   "metadata": {},
   "outputs": [
    {
     "name": "stdout",
     "output_type": "stream",
     "text": [
      "Setting dimensions to (4, 4) of the added memory\n",
      "There are a total of 2 memories\n",
      "Memory 0\n",
      "□ ■ ■ □\n",
      "■ □ □ ■\n",
      "■ □ □ ■\n",
      "□ ■ ■ □\n",
      "Memory 1\n",
      "■ ■ □ □\n",
      "■ ■ □ □\n",
      "■ ■ □ □\n",
      "■ ■ □ □\n"
     ]
    }
   ],
   "source": [
    "# initializing a memory matrix\n",
    "stable_state = np.array([[1,-1,-1,1],\n",
    "                        [-1,1,1,-1],\n",
    "                        [-1,1,1,-1],\n",
    "                        [1,-1,-1,1]])\n",
    "\n",
    "stable_state_2 = np.array([[-1,-1,1,1],\n",
    "                        [-1,-1,1,1],\n",
    "                        [-1,-1,1,1],\n",
    "                        [-1,-1,1,1]])\n",
    "\n",
    "# stable_state_2 = np.array([[1,-1,1,-1],\n",
    "#                         [-1,1,-1,1],\n",
    "#                         [1,-1,1,-1],\n",
    "#                         [-1,1,-1,1]])\n",
    "\n",
    "# initializing the Hopfield network builder\n",
    "builder = hn.HopNetBuilder()\n",
    "builder.memory_add(stable_state)\n",
    "builder.memory_add(stable_state_2)\n",
    "builder.memory_show()"
   ]
  },
  {
   "cell_type": "code",
   "execution_count": 3,
   "metadata": {},
   "outputs": [
    {
     "name": "stdout",
     "output_type": "stream",
     "text": [
      "□ ■ ■ ■\n",
      "■ ■ □ ■\n",
      "■ ■ ■ □\n",
      "■ □ □ □\n"
     ]
    },
    {
     "name": "stderr",
     "output_type": "stream",
     "text": [
      "/mnt/d/Work/Projects/Hopfield_Network/Hopfield_Network.py:99: FutureWarning: elementwise comparison failed; returning scalar instead, but in the future will perform elementwise comparison\n",
      "  if weights != \"random\" and int(np.array(dims).prod()) != weights.shape[0]: # We assign weights between \"all pairs\" of vertices\n"
     ]
    }
   ],
   "source": [
    "network = builder.build(init_state = \"random\")\n",
    "\n",
    "network.show_state()"
   ]
  },
  {
   "cell_type": "code",
   "execution_count": 4,
   "metadata": {},
   "outputs": [
    {
     "name": "stdout",
     "output_type": "stream",
     "text": [
      "Convergence Reached at iteration 1\n",
      "■ □ □ ■\n",
      "□ ■ ■ □\n",
      "□ ■ ■ □\n",
      "■ □ □ ■\n"
     ]
    }
   ],
   "source": [
    "# letting the network converge to the stable state (will converge to 1 of 2 states)\n",
    "network.update(wait = 0.5)"
   ]
  },
  {
   "cell_type": "code",
   "execution_count": 5,
   "metadata": {},
   "outputs": [
    {
     "name": "stdout",
     "output_type": "stream",
     "text": [
      "■ ■ ■ □\n",
      "□ □ ■ □\n",
      "■ ■ ■ □\n",
      "□ ■ ■ ■\n"
     ]
    }
   ],
   "source": [
    "# Trying again, this time with a different initial state\n",
    "network.set_state(\"random\")\n",
    "network.show_state()\n"
   ]
  },
  {
   "cell_type": "code",
   "execution_count": 6,
   "metadata": {},
   "outputs": [
    {
     "name": "stdout",
     "output_type": "stream",
     "text": [
      "Convergence Reached at iteration 0\n",
      "□ □ ■ ■\n",
      "□ □ ■ ■\n",
      "□ □ ■ ■\n",
      "□ □ ■ ■\n"
     ]
    }
   ],
   "source": [
    "network.update(wait = 0.5)"
   ]
  }
 ],
 "metadata": {
  "kernelspec": {
   "display_name": "base",
   "language": "python",
   "name": "python3"
  },
  "language_info": {
   "codemirror_mode": {
    "name": "ipython",
    "version": 3
   },
   "file_extension": ".py",
   "mimetype": "text/x-python",
   "name": "python",
   "nbconvert_exporter": "python",
   "pygments_lexer": "ipython3",
   "version": "3.11.5"
  },
  "orig_nbformat": 4
 },
 "nbformat": 4,
 "nbformat_minor": 2
}
